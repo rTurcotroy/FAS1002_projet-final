{
  "cells": [
    {
      "cell_type": "raw",
      "metadata": {},
      "source": [
        "---\n",
        "title: \"FAS1002_projet-final\"\n",
        "---"
      ],
      "id": "809da250"
    },
    {
      "cell_type": "markdown",
      "metadata": {},
      "source": [
        "    ```{css, echo = FALSE}\n",
        "    .justify {\n",
        "      text-align: justify !important\n",
        "    }\n",
        "    ```\n",
        "\n",
        "\n",
        "    ## Quarto\n",
        "\n",
        "    ::: {.justify}\n",
        "\n",
        "    Ce projet vise à démontrer les compétences que nous avons développées au cours de la session dans le cours FAS1002. Il a donc fallu construire unestructure de page web qui peut contenir tout un projet de recherche en partant du téléchargement de données, jusqu'à la présentation. Nous avions donc certaine contrainte pour effectuer le travail d'on l'utilisation de base de données particulière.\n",
        "\n",
        "    N'étant pas un cours d'analyse, mais une cour qui d'introduction à la programmation via R. L'analyse qui est faite dans ce travail est plus vue comme un exemple de recherche qu'une analyse complète.\n",
        "\n",
        "    Ainsi, cette page n'est que la présentation du projet. Le début commence à la page intro ou il y a une description du travail.\n",
        "\n",
        "    Toutefois, par manque de temps et de compétence toutes les notions et exigences du travail n'ont pas pu être respecté. Toutefois, j'ai fait de mon mieux.\n",
        "\n",
        "\n",
        "    :::\n",
        "\n",
        "Ce projet vise à démontrer les compétences que nous avons développées au cours de la session dans le cours FAS1002. Il a donc fallu construire unestructure de page web qui peut contenir tout un projet de recherche en partant du téléchargement de données, jusqu'à la présentation. Nous avions donc certaine contrainte pour effectuer le travail d'on l'utilisation de base de données particulière.\n",
        "\n",
        "N'étant pas un cours d'analyse, mais une cour qui d'introduction à la programmation via R. L'analyse qui est faite dans ce travail est plus vue comme un exemple de recherche qu'une analyse complète.\n",
        "\n",
        "Ainsi, cette page n'est que la présentation du projet. Le début commence à la page [intro](intro.qmd) ou il y a une description du travail.\n",
        "\n",
        "Toutefois, par manque de temps et de compétence toutes les notions et exigences du travail n'ont pas pu être respecté. Toutefois, j'ai fait de mon mieux.\n",
        "\n",
        "## Remerciements {.appendix}\n",
        "\n",
        "J'aimerais remercier toute la cohorte du cours FAS1002 de l'automne 2022 pour leur ouverture et effort tout au long de la session!"
      ],
      "id": "5fae0f00"
    }
  ],
  "metadata": {
    "kernelspec": {
      "display_name": "Python 3",
      "language": "python",
      "name": "python3"
    }
  },
  "nbformat": 4,
  "nbformat_minor": 5
}